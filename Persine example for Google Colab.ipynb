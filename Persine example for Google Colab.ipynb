{
  "nbformat": 4,
  "nbformat_minor": 0,
  "metadata": {
    "colab": {
      "name": "Persine example",
      "provenance": [],
      "collapsed_sections": []
    },
    "kernelspec": {
      "display_name": "Python 3",
      "name": "python3"
    }
  },
  "cells": [
    {
      "cell_type": "markdown",
      "metadata": {
        "id": "wuuQPEF_hJ4U"
      },
      "source": [
        "# How to use Persine to scrape and analyze YouTube recommendations\n",
        "\n",
        "[Persine](https://github.com/jsoma/persine) is an automated tool to study and reverse-engineer algorithmic recommendation systems. It's meant to be super simple and super reproducible.\n",
        "\n",
        "## Installation and setup\n",
        "\n",
        "We'll start by installing Persine."
      ]
    },
    {
      "cell_type": "code",
      "metadata": {
        "colab": {
          "base_uri": "https://localhost:8080/"
        },
        "id": "W3BqErcjBfcG",
        "outputId": "bfb71a97-d1f6-4efa-a570-fe409952668a"
      },
      "source": [
        "pip install persine"
      ],
      "execution_count": null,
      "outputs": [
        {
          "output_type": "stream",
          "text": [
            "Collecting persine\n",
            "\u001b[?25l  Downloading https://files.pythonhosted.org/packages/89/19/d23a8baf9de671562e498eea320152a552b9560e433fee2c5fbd6d200f16/persine-0.1.4-py3-none-any.whl (2.8MB)\n",
            "\u001b[K     |████████████████████████████████| 2.8MB 5.4MB/s \n",
            "\u001b[?25hRequirement already satisfied: Pillow>=7.0.0 in /usr/local/lib/python3.6/dist-packages (from persine) (7.0.0)\n",
            "Collecting selenium<4.0.0,>=3.141.0\n",
            "\u001b[?25l  Downloading https://files.pythonhosted.org/packages/80/d6/4294f0b4bce4de0abf13e17190289f9d0613b0a44e5dd6a7f5ca98459853/selenium-3.141.0-py2.py3-none-any.whl (904kB)\n",
            "\u001b[K     |████████████████████████████████| 911kB 51.8MB/s \n",
            "\u001b[?25hRequirement already satisfied: pandas<2.0.0,>=1.1.5 in /usr/local/lib/python3.6/dist-packages (from persine) (1.1.5)\n",
            "Requirement already satisfied: beautifulsoup4>=4.6.3 in /usr/local/lib/python3.6/dist-packages (from persine) (4.6.3)\n",
            "Requirement already satisfied: urllib3 in /usr/local/lib/python3.6/dist-packages (from selenium<4.0.0,>=3.141.0->persine) (1.24.3)\n",
            "Requirement already satisfied: python-dateutil>=2.7.3 in /usr/local/lib/python3.6/dist-packages (from pandas<2.0.0,>=1.1.5->persine) (2.8.1)\n",
            "Requirement already satisfied: pytz>=2017.2 in /usr/local/lib/python3.6/dist-packages (from pandas<2.0.0,>=1.1.5->persine) (2018.9)\n",
            "Requirement already satisfied: numpy>=1.15.4 in /usr/local/lib/python3.6/dist-packages (from pandas<2.0.0,>=1.1.5->persine) (1.19.5)\n",
            "Requirement already satisfied: six>=1.5 in /usr/local/lib/python3.6/dist-packages (from python-dateutil>=2.7.3->pandas<2.0.0,>=1.1.5->persine) (1.15.0)\n",
            "Installing collected packages: selenium, persine\n",
            "Successfully installed persine-0.1.4 selenium-3.141.0\n"
          ],
          "name": "stdout"
        }
      ]
    },
    {
      "cell_type": "markdown",
      "metadata": {
        "id": "pniIcrF7hqbC"
      },
      "source": [
        "Next we need to install Chromium and chromedriver, which will allow us to pretend to be a browser. Chromium is the basis for Chrome, so you can think of this as just installing Chrome."
      ]
    },
    {
      "cell_type": "code",
      "metadata": {
        "colab": {
          "background_save": true,
          "base_uri": "https://localhost:8080/"
        },
        "id": "Ct2w1UCzThOx",
        "outputId": "7aee67ae-d36a-4070-8a0a-1e89b82db691"
      },
      "source": [
        "!apt-get -qq update # to update ubuntu to correctly run apt install\n",
        "!apt -qq install chromium-chromedriver"
      ],
      "execution_count": null,
      "outputs": [
        {
          "output_type": "stream",
          "text": [
            "chromium-chromedriver is already the newest version (87.0.4280.66-0ubuntu0.18.04.1).\n",
            "0 upgraded, 0 newly installed, 0 to remove and 19 not upgraded.\n"
          ],
          "name": "stdout"
        }
      ]
    },
    {
      "cell_type": "markdown",
      "metadata": {
        "id": "iC4FizVFkaeF"
      },
      "source": [
        "# How to use Persine\n",
        "\n",
        "## Visiting pages and scraping recommendations\n",
        "\n",
        "We'll tell Persine to start up a new session, watch [this video](https://www.youtube.com/watch?v=oFeoS41xe7w\"), then click the \"next up\" button 3 times. _Notice how nice and easy and shareable the commands are to make that happen!_\n",
        "\n",
        "This might take a little while. When it's all done, we'll save the history and recommendations to CSV files. "
      ]
    },
    {
      "cell_type": "code",
      "metadata": {
        "id": "GFHIJD-1R08A"
      },
      "source": [
        "from persine import PersonaEngine\n",
        "\n",
        "engine = PersonaEngine(headless=True)\n",
        "\n",
        "with engine.persona() as persona:\n",
        "    persona.run_batch([\n",
        "        \"https://www.youtube.com/watch?v=oFeoS41xe7w\",\n",
        "        \"youtube:next_up#3\"\n",
        "    ])\n",
        "    persona.history.to_csv(\"history.csv\")\n",
        "    persona.recommendations.to_csv(\"recs.csv\")\n"
      ],
      "execution_count": null,
      "outputs": []
    },
    {
      "cell_type": "markdown",
      "metadata": {
        "id": "XTzEzr5fkwsw"
      },
      "source": [
        "# Analyzing the results\n",
        "\n",
        "Even though we're outside of the `with`, we can still look at the history and recommendations associated with the session. Since we love truth and beauty we're going to look at them both as pandas dataframes.\n",
        "\n",
        "## History\n",
        "\n",
        "The **history** is a list of every page you visited and every action you took. In this case, we'll have four items - the first page we visited, and one row for each of the \"next up\" videos we watched."
      ]
    },
    {
      "cell_type": "code",
      "metadata": {
        "colab": {
          "background_save": true,
          "base_uri": "https://localhost:8080/"
        },
        "id": "RylSx5LlS2Ka",
        "outputId": "419e9edd-c403-40d1-8080-db0e6303e30f"
      },
      "source": [
        "history = persona.history.to_df()\n",
        "history"
      ],
      "execution_count": null,
      "outputs": [
        {
          "output_type": "execute_result",
          "data": {
            "text/html": [
              "<div>\n",
              "<style scoped>\n",
              "    .dataframe tbody tr th:only-of-type {\n",
              "        vertical-align: middle;\n",
              "    }\n",
              "\n",
              "    .dataframe tbody tr th {\n",
              "        vertical-align: top;\n",
              "    }\n",
              "\n",
              "    .dataframe thead th {\n",
              "        text-align: right;\n",
              "    }\n",
              "</style>\n",
              "<table border=\"1\" class=\"dataframe\">\n",
              "  <thead>\n",
              "    <tr style=\"text-align: right;\">\n",
              "      <th></th>\n",
              "      <th>key</th>\n",
              "      <th>action</th>\n",
              "      <th>page_title</th>\n",
              "      <th>url</th>\n",
              "      <th>date</th>\n",
              "      <th>url_before_action</th>\n",
              "      <th>channel_sub_count</th>\n",
              "      <th>channel_url</th>\n",
              "      <th>dislike_count</th>\n",
              "      <th>is_listed</th>\n",
              "      <th>is_live</th>\n",
              "      <th>like_count</th>\n",
              "      <th>posted_on</th>\n",
              "      <th>view_count</th>\n",
              "      <th>page_type</th>\n",
              "      <th>title</th>\n",
              "      <th>id</th>\n",
              "      <th>channel_name</th>\n",
              "      <th>recommendations</th>\n",
              "      <th>caption_tracks</th>\n",
              "    </tr>\n",
              "  </thead>\n",
              "  <tbody>\n",
              "    <tr>\n",
              "      <th>0</th>\n",
              "      <td>2021-02-19-21.57.08.848</td>\n",
              "      <td>https://www.youtube.com/watch?v=oFeoS41xe7w</td>\n",
              "      <td>James Baldwin Debates William F. Buckley (1965...</td>\n",
              "      <td>https://www.youtube.com/watch?v=oFeoS41xe7w</td>\n",
              "      <td>2021-02-19 21:57:08</td>\n",
              "      <td>None</td>\n",
              "      <td>33.3K subscribers</td>\n",
              "      <td>https://www.youtube.com/channel/UCGm5Oqp5rAbaC...</td>\n",
              "      <td>1,218 dislikes</td>\n",
              "      <td>True</td>\n",
              "      <td>False</td>\n",
              "      <td>42,670 likes</td>\n",
              "      <td>Oct 27, 2012</td>\n",
              "      <td>2,688,658 views</td>\n",
              "      <td>video</td>\n",
              "      <td>James Baldwin Debates William F. Buckley (1965)</td>\n",
              "      <td>oFeoS41xe7w</td>\n",
              "      <td>The Riverbends Channel</td>\n",
              "      <td>[{'channel_name': 'PBS NewsHour', 'duration_te...</td>\n",
              "      <td>[]</td>\n",
              "    </tr>\n",
              "    <tr>\n",
              "      <th>1</th>\n",
              "      <td>2021-02-19-21.57.16.723</td>\n",
              "      <td>youtube:next_up</td>\n",
              "      <td>Baldwin-Buckley race debate still resonates 55...</td>\n",
              "      <td>https://www.youtube.com/watch?v=MRzkHgMaPL4</td>\n",
              "      <td>2021-02-19 21:57:16</td>\n",
              "      <td>https://www.youtube.com/watch?v=oFeoS41xe7w</td>\n",
              "      <td>2.51M subscribers</td>\n",
              "      <td>https://www.youtube.com/channel/UC6ZFN9Tx6xh-s...</td>\n",
              "      <td>564 dislikes</td>\n",
              "      <td>True</td>\n",
              "      <td>False</td>\n",
              "      <td>17,254 likes</td>\n",
              "      <td>Feb 16, 2020</td>\n",
              "      <td>865,288 views</td>\n",
              "      <td>video</td>\n",
              "      <td>Baldwin-Buckley race debate still resonates 55...</td>\n",
              "      <td>MRzkHgMaPL4</td>\n",
              "      <td>PBS NewsHour</td>\n",
              "      <td>[{'channel_name': 'ThamesTv', 'duration_text':...</td>\n",
              "      <td>[{'displayName': 'English', 'id': None, 'is_de...</td>\n",
              "    </tr>\n",
              "    <tr>\n",
              "      <th>2</th>\n",
              "      <td>2021-02-19-21.57.28.504</td>\n",
              "      <td>youtube:next_up</td>\n",
              "      <td>Civil Rights | James Baldwin Interview | Mavis...</td>\n",
              "      <td>https://www.youtube.com/watch?v=3Wht4NSf7E4</td>\n",
              "      <td>2021-02-19 21:57:28</td>\n",
              "      <td>https://www.youtube.com/watch?v=MRzkHgMaPL4</td>\n",
              "      <td>237K subscribers</td>\n",
              "      <td>https://www.youtube.com/channel/UChXQL4MqC4ihS...</td>\n",
              "      <td>140 dislikes</td>\n",
              "      <td>True</td>\n",
              "      <td>False</td>\n",
              "      <td>7,656 likes</td>\n",
              "      <td>Nov 2, 2014</td>\n",
              "      <td>389,920 views</td>\n",
              "      <td>video</td>\n",
              "      <td>Civil Rights | James Baldwin  Interview |  Mav...</td>\n",
              "      <td>3Wht4NSf7E4</td>\n",
              "      <td>ThamesTv</td>\n",
              "      <td>[{'channel_name': 'ProjectDystopia', 'duration...</td>\n",
              "      <td>None</td>\n",
              "    </tr>\n",
              "    <tr>\n",
              "      <th>3</th>\n",
              "      <td>2021-02-19-21.57.36.443</td>\n",
              "      <td>youtube:next_up</td>\n",
              "      <td>JAMES BALDWIN: Interview (Florida Forum, Miami...</td>\n",
              "      <td>https://www.youtube.com/watch?v=FpRziHGxeEU</td>\n",
              "      <td>2021-02-19 21:57:36</td>\n",
              "      <td>https://www.youtube.com/watch?v=3Wht4NSf7E4</td>\n",
              "      <td>3.19K subscribers</td>\n",
              "      <td>https://www.youtube.com/channel/UCPJmIZRzmL_4r...</td>\n",
              "      <td>62 dislikes</td>\n",
              "      <td>True</td>\n",
              "      <td>False</td>\n",
              "      <td>2,303 likes</td>\n",
              "      <td>Nov 24, 2011</td>\n",
              "      <td>173,488 views</td>\n",
              "      <td>video</td>\n",
              "      <td>JAMES BALDWIN: Interview (Florida Forum, Miami...</td>\n",
              "      <td>FpRziHGxeEU</td>\n",
              "      <td>ProjectDystopia</td>\n",
              "      <td>[{'channel_name': 'thepostarchive', 'duration_...</td>\n",
              "      <td>None</td>\n",
              "    </tr>\n",
              "  </tbody>\n",
              "</table>\n",
              "</div>"
            ],
            "text/plain": [
              "                       key  ...                                     caption_tracks\n",
              "0  2021-02-19-21.57.08.848  ...                                                 []\n",
              "1  2021-02-19-21.57.16.723  ...  [{'displayName': 'English', 'id': None, 'is_de...\n",
              "2  2021-02-19-21.57.28.504  ...                                               None\n",
              "3  2021-02-19-21.57.36.443  ...                                               None\n",
              "\n",
              "[4 rows x 20 columns]"
            ]
          },
          "metadata": {
            "tags": []
          },
          "execution_count": 0
        }
      ]
    },
    {
      "cell_type": "markdown",
      "metadata": {
        "id": "EvzDEE9dXDgx"
      },
      "source": [
        "## Recommendations\n",
        "\n",
        "The **recommendations** are every item suggested by YouTube. This includes everything in video sidebars, search results pages, and the youtube homepage. Oddly our ads seems to be about bikinis and cruise lines, so we'll filter those out before we do our analysis."
      ]
    },
    {
      "cell_type": "code",
      "metadata": {
        "colab": {
          "base_uri": "https://localhost:8080/",
          "height": 1000
        },
        "id": "7dhoF8lHY_pJ",
        "outputId": "48b886f0-e97b-4b01-ca38-d7ec171e5344"
      },
      "source": [
        "recs = persona.recommendations.to_df()\n",
        "recs = recs[~recs.item_type.str.startswith('YTD-PROMOTED')]\n",
        "recs"
      ],
      "execution_count": null,
      "outputs": [
        {
          "output_type": "execute_result",
          "data": {
            "text/html": [
              "<div>\n",
              "<style scoped>\n",
              "    .dataframe tbody tr th:only-of-type {\n",
              "        vertical-align: middle;\n",
              "    }\n",
              "\n",
              "    .dataframe tbody tr th {\n",
              "        vertical-align: top;\n",
              "    }\n",
              "\n",
              "    .dataframe thead th {\n",
              "        text-align: right;\n",
              "    }\n",
              "</style>\n",
              "<table border=\"1\" class=\"dataframe\">\n",
              "  <thead>\n",
              "    <tr style=\"text-align: right;\">\n",
              "      <th></th>\n",
              "      <th>channel_name</th>\n",
              "      <th>duration_text</th>\n",
              "      <th>item_type</th>\n",
              "      <th>metadata</th>\n",
              "      <th>position</th>\n",
              "      <th>thumbnail_url</th>\n",
              "      <th>title</th>\n",
              "      <th>url</th>\n",
              "      <th>action_key</th>\n",
              "    </tr>\n",
              "  </thead>\n",
              "  <tbody>\n",
              "    <tr>\n",
              "      <th>0</th>\n",
              "      <td>PBS NewsHour</td>\n",
              "      <td>9:00</td>\n",
              "      <td>YTD-COMPACT-AUTOPLAY-RENDERER</td>\n",
              "      <td>865K views\\n1 year ago</td>\n",
              "      <td>1</td>\n",
              "      <td>https://i.ytimg.com/vi/MRzkHgMaPL4/hqdefault.j...</td>\n",
              "      <td>Baldwin-Buckley race debate still resonates 55...</td>\n",
              "      <td>https://www.youtube.com/watch?v=MRzkHgMaPL4</td>\n",
              "      <td>2021-02-19-19.38.31.994</td>\n",
              "    </tr>\n",
              "    <tr>\n",
              "      <th>1</th>\n",
              "      <td>Ayn Rand Institute</td>\n",
              "      <td>26:39</td>\n",
              "      <td>YTD-COMPACT-VIDEO-RENDERER</td>\n",
              "      <td>426K views\\n7 months ago</td>\n",
              "      <td>2</td>\n",
              "      <td>https://i.ytimg.com/vi/lHl2PqwRcY0/hqdefault.j...</td>\n",
              "      <td>The Mike Wallace Interview with Ayn Rand</td>\n",
              "      <td>https://www.youtube.com/watch?v=lHl2PqwRcY0</td>\n",
              "      <td>2021-02-19-19.38.31.994</td>\n",
              "    </tr>\n",
              "    <tr>\n",
              "      <th>2</th>\n",
              "      <td>Firing Line with William F. Buckley, Jr.</td>\n",
              "      <td>52:04</td>\n",
              "      <td>YTD-COMPACT-VIDEO-RENDERER</td>\n",
              "      <td>308K views\\n4 years ago</td>\n",
              "      <td>3</td>\n",
              "      <td>https://i.ytimg.com/vi/NxpuT1SNurU/hqdefault.j...</td>\n",
              "      <td>Firing Line with William F. Buckley Jr.: Muham...</td>\n",
              "      <td>https://www.youtube.com/watch?v=NxpuT1SNurU</td>\n",
              "      <td>2021-02-19-19.38.31.994</td>\n",
              "    </tr>\n",
              "    <tr>\n",
              "      <th>3</th>\n",
              "      <td>CBC</td>\n",
              "      <td>7:49</td>\n",
              "      <td>YTD-COMPACT-VIDEO-RENDERER</td>\n",
              "      <td>3.7M views\\n10 years ago</td>\n",
              "      <td>4</td>\n",
              "      <td>https://i.ytimg.com/vi/C7IJ7npTYrU/hqdefault.j...</td>\n",
              "      <td>Malcolm X on Front Page Challenge, 1965: CBC A...</td>\n",
              "      <td>https://www.youtube.com/watch?v=C7IJ7npTYrU</td>\n",
              "      <td>2021-02-19-19.38.31.994</td>\n",
              "    </tr>\n",
              "    <tr>\n",
              "      <th>4</th>\n",
              "      <td>The Dick Cavett Show</td>\n",
              "      <td>12:58</td>\n",
              "      <td>YTD-COMPACT-VIDEO-RENDERER</td>\n",
              "      <td>390K views\\n6 months ago</td>\n",
              "      <td>5</td>\n",
              "      <td>https://i.ytimg.com/vi/hzH5IDnLaBA/hqdefault.j...</td>\n",
              "      <td>James Baldwin and Paul Weiss Debate Discrimina...</td>\n",
              "      <td>https://www.youtube.com/watch?v=hzH5IDnLaBA</td>\n",
              "      <td>2021-02-19-19.38.31.994</td>\n",
              "    </tr>\n",
              "    <tr>\n",
              "      <th>...</th>\n",
              "      <td>...</td>\n",
              "      <td>...</td>\n",
              "      <td>...</td>\n",
              "      <td>...</td>\n",
              "      <td>...</td>\n",
              "      <td>...</td>\n",
              "      <td>...</td>\n",
              "      <td>...</td>\n",
              "      <td>...</td>\n",
              "    </tr>\n",
              "    <tr>\n",
              "      <th>77</th>\n",
              "      <td>GREATBLACKSHARK</td>\n",
              "      <td>51:11</td>\n",
              "      <td>YTD-COMPACT-VIDEO-RENDERER</td>\n",
              "      <td>135K views\\n11 months ago</td>\n",
              "      <td>17</td>\n",
              "      <td></td>\n",
              "      <td>MALCOLM X &amp; JAMES BALDWIN DISCUSS RACE RELATIO...</td>\n",
              "      <td>https://www.youtube.com/watch?v=ppTj_eDfXSY</td>\n",
              "      <td>2021-02-19-19.38.55.186</td>\n",
              "    </tr>\n",
              "    <tr>\n",
              "      <th>78</th>\n",
              "      <td>reelblack</td>\n",
              "      <td>28:37</td>\n",
              "      <td>YTD-COMPACT-VIDEO-RENDERER</td>\n",
              "      <td>1.4M views\\n2 years ago</td>\n",
              "      <td>18</td>\n",
              "      <td></td>\n",
              "      <td>Malcolm X | City Desk (1963)</td>\n",
              "      <td>https://www.youtube.com/watch?v=M7SgS2yPRF0</td>\n",
              "      <td>2021-02-19-19.38.55.186</td>\n",
              "    </tr>\n",
              "    <tr>\n",
              "      <th>79</th>\n",
              "      <td>KELLIEBREW’S WORLD</td>\n",
              "      <td>51:11</td>\n",
              "      <td>YTD-COMPACT-VIDEO-RENDERER</td>\n",
              "      <td>26K views\\n8 months ago</td>\n",
              "      <td>19</td>\n",
              "      <td></td>\n",
              "      <td>“WE ARE NOT WILLING TO WAIT ANOTHER 1000 YEARS...</td>\n",
              "      <td>https://www.youtube.com/watch?v=pU-VsSprPgQ</td>\n",
              "      <td>2021-02-19-19.38.55.186</td>\n",
              "    </tr>\n",
              "    <tr>\n",
              "      <th>80</th>\n",
              "      <td>reelblack</td>\n",
              "      <td>28:33</td>\n",
              "      <td>YTD-COMPACT-VIDEO-RENDERER</td>\n",
              "      <td>263K views\\n6 days ago</td>\n",
              "      <td>20</td>\n",
              "      <td></td>\n",
              "      <td>Fred Hampton Documentary (1990) | COINTELPRO B...</td>\n",
              "      <td>https://www.youtube.com/watch?v=PV-0FODvq_w</td>\n",
              "      <td>2021-02-19-19.38.55.186</td>\n",
              "    </tr>\n",
              "    <tr>\n",
              "      <th>81</th>\n",
              "      <td>Matthew Siegfried</td>\n",
              "      <td>52:41</td>\n",
              "      <td>YTD-COMPACT-VIDEO-RENDERER</td>\n",
              "      <td>45K views\\n4 years ago</td>\n",
              "      <td>21</td>\n",
              "      <td></td>\n",
              "      <td>James Baldwin Speaks! Social Change &amp; The Writ...</td>\n",
              "      <td>https://www.youtube.com/watch?v=cZQ5OA4rtag</td>\n",
              "      <td>2021-02-19-19.38.55.186</td>\n",
              "    </tr>\n",
              "  </tbody>\n",
              "</table>\n",
              "<p>80 rows × 9 columns</p>\n",
              "</div>"
            ],
            "text/plain": [
              "                                channel_name  ...               action_key\n",
              "0                               PBS NewsHour  ...  2021-02-19-19.38.31.994\n",
              "1                         Ayn Rand Institute  ...  2021-02-19-19.38.31.994\n",
              "2   Firing Line with William F. Buckley, Jr.  ...  2021-02-19-19.38.31.994\n",
              "3                                        CBC  ...  2021-02-19-19.38.31.994\n",
              "4                       The Dick Cavett Show  ...  2021-02-19-19.38.31.994\n",
              "..                                       ...  ...                      ...\n",
              "77                           GREATBLACKSHARK  ...  2021-02-19-19.38.55.186\n",
              "78                                 reelblack  ...  2021-02-19-19.38.55.186\n",
              "79                        KELLIEBREW’S WORLD  ...  2021-02-19-19.38.55.186\n",
              "80                                 reelblack  ...  2021-02-19-19.38.55.186\n",
              "81                         Matthew Siegfried  ...  2021-02-19-19.38.55.186\n",
              "\n",
              "[80 rows x 9 columns]"
            ]
          },
          "metadata": {
            "tags": []
          },
          "execution_count": 5
        }
      ]
    },
    {
      "cell_type": "markdown",
      "metadata": {
        "id": "So0C1tHFokOI"
      },
      "source": [
        "## Using the history and recommendations\n",
        "\n",
        "We can analyze them separately, for example finding out what channels the most recommended videos were from."
      ]
    },
    {
      "cell_type": "code",
      "metadata": {
        "colab": {
          "base_uri": "https://localhost:8080/"
        },
        "id": "WEnY5XZmXWmV",
        "outputId": "bb65c7f8-87b0-4906-c0b2-1c4c9f233641"
      },
      "source": [
        "recs.channel_name.value_counts().nlargest(10)"
      ],
      "execution_count": null,
      "outputs": [
        {
          "output_type": "execute_result",
          "data": {
            "text/plain": [
              "thepostarchive                              21\n",
              "The Dick Cavett Show                         6\n",
              "reelblack                                    5\n",
              "Firing Line with William F. Buckley, Jr.     5\n",
              "AfroMarxist                                  3\n",
              "CBC                                          2\n",
              "The Riverbends Channel                       2\n",
              "Netflix Film Club                            2\n",
              "Dartmouth                                    2\n",
              "KELLIEBREW’S WORLD                           2\n",
              "Name: channel_name, dtype: int64"
            ]
          },
          "metadata": {
            "tags": []
          },
          "execution_count": 6
        }
      ]
    },
    {
      "cell_type": "markdown",
      "metadata": {
        "id": "-1HfbcCZXWVa"
      },
      "source": [
        "Or maybe we're interested in the videos themselves, like \"even though we start with a video in 2012, when did the 'next up' videos get posted?\""
      ]
    },
    {
      "cell_type": "code",
      "metadata": {
        "colab": {
          "base_uri": "https://localhost:8080/"
        },
        "id": "PxatL1g5n2oy",
        "outputId": "3a6437e4-7e8f-4c79-8cc6-6244e9741458"
      },
      "source": [
        "import pandas as pd\n",
        "\n",
        "# That first year on the far left is the one from our first video\n",
        "pd.to_datetime(history.posted_on).hist()"
      ],
      "execution_count": null,
      "outputs": [
        {
          "output_type": "execute_result",
          "data": {
            "text/plain": [
              "<matplotlib.axes._subplots.AxesSubplot at 0x7f85d9c6d2b0>"
            ]
          },
          "metadata": {
            "tags": []
          },
          "execution_count": 7
        },
        {
          "output_type": "display_data",
          "data": {
            "image/png": "[encoded data removed]",
            "text/plain": [
              "<Figure size 432x288 with 1 Axes>"
            ]
          },
          "metadata": {
            "tags": []
          }
        }
      ]
    },
    {
      "cell_type": "markdown",
      "metadata": {
        "id": "_0NQ9gHDoqbY"
      },
      "source": [
        "We can combine the results with other tools, like the natural language processing tool [spaCy](https://spacy.io/). We can use its Named Entity Recognition to ask \"who are the people mentioned in the titles of the recommended videos?\""
      ]
    },
    {
      "cell_type": "code",
      "metadata": {
        "colab": {
          "base_uri": "https://localhost:8080/"
        },
        "id": "fzG55LwmoqmM",
        "outputId": "922a1834-6992-4e2e-ce3e-845a14cc73b5"
      },
      "source": [
        "import spacy\n",
        "from collections import Counter\n",
        "\n",
        "# Download a spacy model for processing English\n",
        "nlp = spacy.load(\"en_core_web_sm\")\n",
        "\n",
        "# Clean up the titles a bit, removing - and 's which mess up NER a little\n",
        "cleaned_titles = recs.title.str.replace(\"-\", \"\").str.replace(\"'s\", \"\")\n",
        "texts = '. '.join(cleaned_titles)\n",
        "\n",
        "# Feed it to spaCy, get all of the people back\n",
        "doc = nlp(texts)\n",
        "entities = [e.text for e in doc.ents if e.label_ == 'PERSON']\n",
        "\n",
        "# Who are the most 15 common?\n",
        "Counter(entities).most_common(15)"
      ],
      "execution_count": null,
      "outputs": [
        {
          "output_type": "execute_result",
          "data": {
            "text/plain": [
              "[('James Baldwin', 31),\n",
              " ('Malcolm X', 7),\n",
              " ('Firing Line', 6),\n",
              " ('William F. Buckley Jr.', 6),\n",
              " ('Paul Weiss', 3),\n",
              " ('Dick Cavett Show', 3),\n",
              " ('Cornel West', 3),\n",
              " ('William F. Buckley', 3),\n",
              " ('James Baldwin Interview', 3),\n",
              " ('Muhammad Ali', 2),\n",
              " ('Lester Maddox', 2),\n",
              " ('Jim Brown', 2),\n",
              " ('Dick Cavett', 2),\n",
              " ('Martin Luther King', 2),\n",
              " ('James Baldwin Debates', 2)]"
            ]
          },
          "metadata": {
            "tags": []
          },
          "execution_count": 8
        }
      ]
    },
    {
      "cell_type": "markdown",
      "metadata": {
        "id": "JjojnZShmbnG"
      },
      "source": [
        "## Combining history and recommendations\n",
        "\n",
        "If we want to know what recommendations showed up on a particular page, history items can be matched with their recommendations based on the `key`."
      ]
    },
    {
      "cell_type": "code",
      "metadata": {
        "colab": {
          "base_uri": "https://localhost:8080/"
        },
        "id": "SllJqtkElClD",
        "outputId": "f512c35e-08f6-4600-bf44-917c0b6e862a"
      },
      "source": [
        "# This is the last video we watched\n",
        "history.iloc[-1]"
      ],
      "execution_count": null,
      "outputs": [
        {
          "output_type": "execute_result",
          "data": {
            "text/plain": [
              "key                                            2021-02-19-19.38.55.186\n",
              "action                                                 youtube:next_up\n",
              "page_title           JAMES BALDWIN: Interview (Florida Forum, Miami...\n",
              "url                        https://www.youtube.com/watch?v=FpRziHGxeEU\n",
              "date                                               2021-02-19 19:38:55\n",
              "url_before_action          https://www.youtube.com/watch?v=3Wht4NSf7E4\n",
              "channel_sub_count                                    3.19K subscribers\n",
              "channel_url          https://www.youtube.com/channel/UCPJmIZRzmL_4r...\n",
              "dislike_count                                              62 dislikes\n",
              "is_listed                                                         True\n",
              "is_live                                                          False\n",
              "like_count                                                 2,303 likes\n",
              "posted_on                                                 Nov 24, 2011\n",
              "view_count                                               173,476 views\n",
              "page_type                                                        video\n",
              "title                JAMES BALDWIN: Interview (Florida Forum, Miami...\n",
              "id                                                         FpRziHGxeEU\n",
              "channel_name                                           ProjectDystopia\n",
              "recommendations      [{'channel_name': 'thepostarchive', 'duration_...\n",
              "caption_tracks                                                    None\n",
              "Name: 3, dtype: object"
            ]
          },
          "metadata": {
            "tags": []
          },
          "execution_count": 9
        }
      ]
    },
    {
      "cell_type": "markdown",
      "metadata": {
        "id": "ivgYbSsEYQm4"
      },
      "source": [
        "The `key` is unique to each history item, so we can use it to look up the recommendation presented during that specific video. It matches `action_key` in the recommendations dataframe."
      ]
    },
    {
      "cell_type": "code",
      "metadata": {
        "colab": {
          "base_uri": "https://localhost:8080/"
        },
        "id": "eAgiAxcdndxv",
        "outputId": "ca71e841-68ac-4cfc-c62b-3f772079eda2"
      },
      "source": [
        "key = history.iloc[-1].key\n",
        "print(\"Looking for\", key)\n",
        "\n",
        "recs[recs.action_key == key]"
      ],
      "execution_count": null,
      "outputs": [
        {
          "output_type": "stream",
          "text": [
            "Looking for 2021-02-19-19.38.55.186\n"
          ],
          "name": "stdout"
        },
        {
          "output_type": "execute_result",
          "data": {
            "text/html": [
              "<div>\n",
              "<style scoped>\n",
              "    .dataframe tbody tr th:only-of-type {\n",
              "        vertical-align: middle;\n",
              "    }\n",
              "\n",
              "    .dataframe tbody tr th {\n",
              "        vertical-align: top;\n",
              "    }\n",
              "\n",
              "    .dataframe thead th {\n",
              "        text-align: right;\n",
              "    }\n",
              "</style>\n",
              "<table border=\"1\" class=\"dataframe\">\n",
              "  <thead>\n",
              "    <tr style=\"text-align: right;\">\n",
              "      <th></th>\n",
              "      <th>channel_name</th>\n",
              "      <th>duration_text</th>\n",
              "      <th>item_type</th>\n",
              "      <th>metadata</th>\n",
              "      <th>position</th>\n",
              "      <th>thumbnail_url</th>\n",
              "      <th>title</th>\n",
              "      <th>url</th>\n",
              "      <th>action_key</th>\n",
              "    </tr>\n",
              "  </thead>\n",
              "  <tbody>\n",
              "    <tr>\n",
              "      <th>61</th>\n",
              "      <td>thepostarchive</td>\n",
              "      <td>59:59</td>\n",
              "      <td>YTD-COMPACT-AUTOPLAY-RENDERER</td>\n",
              "      <td>139K views\\n5 years ago</td>\n",
              "      <td>1</td>\n",
              "      <td>https://i.ytimg.com/vi/bAeYKwlIU08/hqdefault.j...</td>\n",
              "      <td>Classic James Baldwin speech in Harlem / thepo...</td>\n",
              "      <td>https://www.youtube.com/watch?v=bAeYKwlIU08</td>\n",
              "      <td>2021-02-19-19.38.55.186</td>\n",
              "    </tr>\n",
              "    <tr>\n",
              "      <th>63</th>\n",
              "      <td>thepostarchive</td>\n",
              "      <td>1:56:39</td>\n",
              "      <td>YTD-COMPACT-VIDEO-RENDERER</td>\n",
              "      <td>1.3M views\\n2 years ago</td>\n",
              "      <td>3</td>\n",
              "      <td>https://i.ytimg.com/vi/eZmBy7C9gHQ/hqdefault.j...</td>\n",
              "      <td>James Baldwin &amp; Nikki Giovanni, a conversation...</td>\n",
              "      <td>https://www.youtube.com/watch?v=eZmBy7C9gHQ</td>\n",
              "      <td>2021-02-19-19.38.55.186</td>\n",
              "    </tr>\n",
              "    <tr>\n",
              "      <th>64</th>\n",
              "      <td>-stellla-</td>\n",
              "      <td>30:02</td>\n",
              "      <td>YTD-COMPACT-VIDEO-RENDERER</td>\n",
              "      <td>111K views\\n5 years ago</td>\n",
              "      <td>4</td>\n",
              "      <td>https://i.ytimg.com/vi/dU0g5fAA2QY/hqdefault.j...</td>\n",
              "      <td>James Baldwin - The Artist's Struggle for Inte...</td>\n",
              "      <td>https://www.youtube.com/watch?v=dU0g5fAA2QY</td>\n",
              "      <td>2021-02-19-19.38.55.186</td>\n",
              "    </tr>\n",
              "    <tr>\n",
              "      <th>65</th>\n",
              "      <td>The Riverbends Channel</td>\n",
              "      <td>58:58</td>\n",
              "      <td>YTD-COMPACT-VIDEO-RENDERER</td>\n",
              "      <td>2.6M views\\n8 years ago</td>\n",
              "      <td>5</td>\n",
              "      <td>https://i.ytimg.com/vi/oFeoS41xe7w/hqdefault.j...</td>\n",
              "      <td>James Baldwin Debates William F. Buckley (1965)</td>\n",
              "      <td>https://www.youtube.com/watch?v=oFeoS41xe7w</td>\n",
              "      <td>2021-02-19-19.38.55.186</td>\n",
              "    </tr>\n",
              "    <tr>\n",
              "      <th>66</th>\n",
              "      <td>thepostarchive</td>\n",
              "      <td>59:00</td>\n",
              "      <td>YTD-COMPACT-VIDEO-RENDERER</td>\n",
              "      <td>60K views\\n4 years ago</td>\n",
              "      <td>6</td>\n",
              "      <td>https://i.ytimg.com/vi/Cs7DxbZnxhY/hqdefault.j...</td>\n",
              "      <td>James Baldwin and R.H. Darden in conversation</td>\n",
              "      <td>https://www.youtube.com/watch?v=Cs7DxbZnxhY</td>\n",
              "      <td>2021-02-19-19.38.55.186</td>\n",
              "    </tr>\n",
              "    <tr>\n",
              "      <th>67</th>\n",
              "      <td>AfroMarxist</td>\n",
              "      <td>43:49</td>\n",
              "      <td>YTD-COMPACT-VIDEO-RENDERER</td>\n",
              "      <td>21K views\\n2 months ago</td>\n",
              "      <td>7</td>\n",
              "      <td>https://i.ytimg.com/vi/J9UG9nJ2E9U/hqdefault.j...</td>\n",
              "      <td>James Baldwin - Take This Hammer (1964)</td>\n",
              "      <td>https://www.youtube.com/watch?v=J9UG9nJ2E9U</td>\n",
              "      <td>2021-02-19-19.38.55.186</td>\n",
              "    </tr>\n",
              "    <tr>\n",
              "      <th>68</th>\n",
              "      <td>thepostarchive</td>\n",
              "      <td>34:20</td>\n",
              "      <td>YTD-COMPACT-VIDEO-RENDERER</td>\n",
              "      <td>33K views\\n5 years ago</td>\n",
              "      <td>8</td>\n",
              "      <td>https://i.ytimg.com/vi/LmP41sPPF9o/hqdefault.j...</td>\n",
              "      <td>James Baldwin interview 1963? / thepostarchive</td>\n",
              "      <td>https://www.youtube.com/watch?v=LmP41sPPF9o</td>\n",
              "      <td>2021-02-19-19.38.55.186</td>\n",
              "    </tr>\n",
              "    <tr>\n",
              "      <th>69</th>\n",
              "      <td>thepostarchive</td>\n",
              "      <td>40:43</td>\n",
              "      <td>YTD-COMPACT-VIDEO-RENDERER</td>\n",
              "      <td>48K views\\n5 years ago</td>\n",
              "      <td>9</td>\n",
              "      <td>https://i.ytimg.com/vi/D4l-NTAhgsg/hqdefault.j...</td>\n",
              "      <td>James Baldwin on the Murder of Six Children fr...</td>\n",
              "      <td>https://www.youtube.com/watch?v=D4l-NTAhgsg</td>\n",
              "      <td>2021-02-19-19.38.55.186</td>\n",
              "    </tr>\n",
              "    <tr>\n",
              "      <th>70</th>\n",
              "      <td>AfroMarxist</td>\n",
              "      <td>40:45</td>\n",
              "      <td>YTD-COMPACT-VIDEO-RENDERER</td>\n",
              "      <td>6.9K views\\n2 years ago</td>\n",
              "      <td>10</td>\n",
              "      <td>https://i.ytimg.com/vi/1HDS4T5OU_o/hqdefault.j...</td>\n",
              "      <td>James Baldwin Interview (1963)</td>\n",
              "      <td>https://www.youtube.com/watch?v=1HDS4T5OU_o</td>\n",
              "      <td>2021-02-19-19.38.55.186</td>\n",
              "    </tr>\n",
              "    <tr>\n",
              "      <th>71</th>\n",
              "      <td>thepostarchive</td>\n",
              "      <td>1:03:18</td>\n",
              "      <td>YTD-COMPACT-VIDEO-RENDERER</td>\n",
              "      <td>121K views\\n3 years ago</td>\n",
              "      <td>11</td>\n",
              "      <td>https://i.ytimg.com/vi/PlnDbqLNv-M/hqdefault.j...</td>\n",
              "      <td>James Baldwin: The Moral Responsibility of the...</td>\n",
              "      <td>https://www.youtube.com/watch?v=PlnDbqLNv-M</td>\n",
              "      <td>2021-02-19-19.38.55.186</td>\n",
              "    </tr>\n",
              "    <tr>\n",
              "      <th>72</th>\n",
              "      <td>thepostarchive</td>\n",
              "      <td>54:54</td>\n",
              "      <td>YTD-COMPACT-VIDEO-RENDERER</td>\n",
              "      <td>100K views\\n5 years ago</td>\n",
              "      <td>12</td>\n",
              "      <td>https://i.ytimg.com/vi/Ke6G3sEdj-s/hqdefault.j...</td>\n",
              "      <td>Baldwin: Black man in America / thepostarchive</td>\n",
              "      <td>https://www.youtube.com/watch?v=Ke6G3sEdj-s</td>\n",
              "      <td>2021-02-19-19.38.55.186</td>\n",
              "    </tr>\n",
              "    <tr>\n",
              "      <th>73</th>\n",
              "      <td>thepostarchive</td>\n",
              "      <td>27:42</td>\n",
              "      <td>YTD-COMPACT-VIDEO-RENDERER</td>\n",
              "      <td>10K views\\n5 years ago</td>\n",
              "      <td>13</td>\n",
              "      <td>https://i.ytimg.com/vi/FVFEq2hhwSc/hqdefault.j...</td>\n",
              "      <td>James Baldwin Interview ~1979?</td>\n",
              "      <td>https://www.youtube.com/watch?v=FVFEq2hhwSc</td>\n",
              "      <td>2021-02-19-19.38.55.186</td>\n",
              "    </tr>\n",
              "    <tr>\n",
              "      <th>74</th>\n",
              "      <td>thepostarchive</td>\n",
              "      <td>1:06:29</td>\n",
              "      <td>YTD-COMPACT-VIDEO-RENDERER</td>\n",
              "      <td>97K views\\n5 years ago</td>\n",
              "      <td>14</td>\n",
              "      <td>https://i.ytimg.com/vi/EMYgOfcgMaI/hqdefault.j...</td>\n",
              "      <td>\"Free and Brave\" a speech by James Baldwin 1963</td>\n",
              "      <td>https://www.youtube.com/watch?v=EMYgOfcgMaI</td>\n",
              "      <td>2021-02-19-19.38.55.186</td>\n",
              "    </tr>\n",
              "    <tr>\n",
              "      <th>75</th>\n",
              "      <td>thepostarchive</td>\n",
              "      <td>55:57</td>\n",
              "      <td>YTD-COMPACT-VIDEO-RENDERER</td>\n",
              "      <td>82K views\\n2 years ago</td>\n",
              "      <td>15</td>\n",
              "      <td></td>\n",
              "      <td>James Baldwin's National Press Club Speech (1986)</td>\n",
              "      <td>https://www.youtube.com/watch?v=7_1ZEYgtijk</td>\n",
              "      <td>2021-02-19-19.38.55.186</td>\n",
              "    </tr>\n",
              "    <tr>\n",
              "      <th>76</th>\n",
              "      <td>California Newsreel</td>\n",
              "      <td>4:40</td>\n",
              "      <td>YTD-COMPACT-VIDEO-RENDERER</td>\n",
              "      <td>457K views\\n11 years ago</td>\n",
              "      <td>16</td>\n",
              "      <td></td>\n",
              "      <td>James Baldwin: the Price of the Ticket</td>\n",
              "      <td>https://www.youtube.com/watch?v=4_hYraYI2J8</td>\n",
              "      <td>2021-02-19-19.38.55.186</td>\n",
              "    </tr>\n",
              "    <tr>\n",
              "      <th>77</th>\n",
              "      <td>GREATBLACKSHARK</td>\n",
              "      <td>51:11</td>\n",
              "      <td>YTD-COMPACT-VIDEO-RENDERER</td>\n",
              "      <td>135K views\\n11 months ago</td>\n",
              "      <td>17</td>\n",
              "      <td></td>\n",
              "      <td>MALCOLM X &amp; JAMES BALDWIN DISCUSS RACE RELATIO...</td>\n",
              "      <td>https://www.youtube.com/watch?v=ppTj_eDfXSY</td>\n",
              "      <td>2021-02-19-19.38.55.186</td>\n",
              "    </tr>\n",
              "    <tr>\n",
              "      <th>78</th>\n",
              "      <td>reelblack</td>\n",
              "      <td>28:37</td>\n",
              "      <td>YTD-COMPACT-VIDEO-RENDERER</td>\n",
              "      <td>1.4M views\\n2 years ago</td>\n",
              "      <td>18</td>\n",
              "      <td></td>\n",
              "      <td>Malcolm X | City Desk (1963)</td>\n",
              "      <td>https://www.youtube.com/watch?v=M7SgS2yPRF0</td>\n",
              "      <td>2021-02-19-19.38.55.186</td>\n",
              "    </tr>\n",
              "    <tr>\n",
              "      <th>79</th>\n",
              "      <td>KELLIEBREW’S WORLD</td>\n",
              "      <td>51:11</td>\n",
              "      <td>YTD-COMPACT-VIDEO-RENDERER</td>\n",
              "      <td>26K views\\n8 months ago</td>\n",
              "      <td>19</td>\n",
              "      <td></td>\n",
              "      <td>“WE ARE NOT WILLING TO WAIT ANOTHER 1000 YEARS...</td>\n",
              "      <td>https://www.youtube.com/watch?v=pU-VsSprPgQ</td>\n",
              "      <td>2021-02-19-19.38.55.186</td>\n",
              "    </tr>\n",
              "    <tr>\n",
              "      <th>80</th>\n",
              "      <td>reelblack</td>\n",
              "      <td>28:33</td>\n",
              "      <td>YTD-COMPACT-VIDEO-RENDERER</td>\n",
              "      <td>263K views\\n6 days ago</td>\n",
              "      <td>20</td>\n",
              "      <td></td>\n",
              "      <td>Fred Hampton Documentary (1990) | COINTELPRO B...</td>\n",
              "      <td>https://www.youtube.com/watch?v=PV-0FODvq_w</td>\n",
              "      <td>2021-02-19-19.38.55.186</td>\n",
              "    </tr>\n",
              "    <tr>\n",
              "      <th>81</th>\n",
              "      <td>Matthew Siegfried</td>\n",
              "      <td>52:41</td>\n",
              "      <td>YTD-COMPACT-VIDEO-RENDERER</td>\n",
              "      <td>45K views\\n4 years ago</td>\n",
              "      <td>21</td>\n",
              "      <td></td>\n",
              "      <td>James Baldwin Speaks! Social Change &amp; The Writ...</td>\n",
              "      <td>https://www.youtube.com/watch?v=cZQ5OA4rtag</td>\n",
              "      <td>2021-02-19-19.38.55.186</td>\n",
              "    </tr>\n",
              "  </tbody>\n",
              "</table>\n",
              "</div>"
            ],
            "text/plain": [
              "              channel_name  ...               action_key\n",
              "61          thepostarchive  ...  2021-02-19-19.38.55.186\n",
              "63          thepostarchive  ...  2021-02-19-19.38.55.186\n",
              "64               -stellla-  ...  2021-02-19-19.38.55.186\n",
              "65  The Riverbends Channel  ...  2021-02-19-19.38.55.186\n",
              "66          thepostarchive  ...  2021-02-19-19.38.55.186\n",
              "67             AfroMarxist  ...  2021-02-19-19.38.55.186\n",
              "68          thepostarchive  ...  2021-02-19-19.38.55.186\n",
              "69          thepostarchive  ...  2021-02-19-19.38.55.186\n",
              "70             AfroMarxist  ...  2021-02-19-19.38.55.186\n",
              "71          thepostarchive  ...  2021-02-19-19.38.55.186\n",
              "72          thepostarchive  ...  2021-02-19-19.38.55.186\n",
              "73          thepostarchive  ...  2021-02-19-19.38.55.186\n",
              "74          thepostarchive  ...  2021-02-19-19.38.55.186\n",
              "75          thepostarchive  ...  2021-02-19-19.38.55.186\n",
              "76     California Newsreel  ...  2021-02-19-19.38.55.186\n",
              "77         GREATBLACKSHARK  ...  2021-02-19-19.38.55.186\n",
              "78               reelblack  ...  2021-02-19-19.38.55.186\n",
              "79      KELLIEBREW’S WORLD  ...  2021-02-19-19.38.55.186\n",
              "80               reelblack  ...  2021-02-19-19.38.55.186\n",
              "81       Matthew Siegfried  ...  2021-02-19-19.38.55.186\n",
              "\n",
              "[20 rows x 9 columns]"
            ]
          },
          "metadata": {
            "tags": []
          },
          "execution_count": 10
        }
      ]
    },
    {
      "cell_type": "markdown",
      "metadata": {
        "id": "uG3o5pcJntw-"
      },
      "source": [
        "### Adding video data to recommendations\n",
        "\n",
        "Sometimes you just want it all in one big dataframe, even if it means some duplicate data. We can use `.merge` to match up each recommendation with the video it was seen on.\n",
        "\n",
        "In this particular case we add the `action_` prefix to the history columns so we can keep them separate.\n",
        "\n",
        "> I'm using `persona.recommendations.to_df()` instead of `recs` because I figure we could use a reminder of where it all came from! `recs` would be perfectly fine."
      ]
    },
    {
      "cell_type": "code",
      "metadata": {
        "colab": {
          "base_uri": "https://localhost:8080/"
        },
        "id": "9hUo2gYcZBj_",
        "outputId": "fa281719-2f1e-4371-9692-b0a1fdbef8c9"
      },
      "source": [
        "merged = persona.recommendations.to_df().merge(\n",
        "    persona.history.to_df().add_prefix(\"action_\"),\n",
        "    on='action_key'\n",
        ")\n",
        "\n",
        "merged.head()"
      ],
      "execution_count": null,
      "outputs": [
        {
          "output_type": "execute_result",
          "data": {
            "text/html": [
              "<div>\n",
              "<style scoped>\n",
              "    .dataframe tbody tr th:only-of-type {\n",
              "        vertical-align: middle;\n",
              "    }\n",
              "\n",
              "    .dataframe tbody tr th {\n",
              "        vertical-align: top;\n",
              "    }\n",
              "\n",
              "    .dataframe thead th {\n",
              "        text-align: right;\n",
              "    }\n",
              "</style>\n",
              "<table border=\"1\" class=\"dataframe\">\n",
              "  <thead>\n",
              "    <tr style=\"text-align: right;\">\n",
              "      <th></th>\n",
              "      <th>channel_name</th>\n",
              "      <th>duration_text</th>\n",
              "      <th>item_type</th>\n",
              "      <th>metadata</th>\n",
              "      <th>position</th>\n",
              "      <th>thumbnail_url</th>\n",
              "      <th>title</th>\n",
              "      <th>url</th>\n",
              "      <th>action_key</th>\n",
              "      <th>action_action</th>\n",
              "      <th>action_page_title</th>\n",
              "      <th>action_url</th>\n",
              "      <th>action_date</th>\n",
              "      <th>action_url_before_action</th>\n",
              "      <th>action_channel_sub_count</th>\n",
              "      <th>action_channel_url</th>\n",
              "      <th>action_dislike_count</th>\n",
              "      <th>action_is_listed</th>\n",
              "      <th>action_is_live</th>\n",
              "      <th>action_like_count</th>\n",
              "      <th>action_posted_on</th>\n",
              "      <th>action_view_count</th>\n",
              "      <th>action_page_type</th>\n",
              "      <th>action_title</th>\n",
              "      <th>action_id</th>\n",
              "      <th>action_channel_name</th>\n",
              "      <th>action_recommendations</th>\n",
              "      <th>action_caption_tracks</th>\n",
              "    </tr>\n",
              "  </thead>\n",
              "  <tbody>\n",
              "    <tr>\n",
              "      <th>0</th>\n",
              "      <td>PBS NewsHour</td>\n",
              "      <td>9:00</td>\n",
              "      <td>YTD-COMPACT-AUTOPLAY-RENDERER</td>\n",
              "      <td>865K views\\n1 year ago</td>\n",
              "      <td>1</td>\n",
              "      <td>https://i.ytimg.com/vi/MRzkHgMaPL4/hqdefault.j...</td>\n",
              "      <td>Baldwin-Buckley race debate still resonates 55...</td>\n",
              "      <td>https://www.youtube.com/watch?v=MRzkHgMaPL4</td>\n",
              "      <td>2021-02-19-19.38.31.994</td>\n",
              "      <td>https://www.youtube.com/watch?v=oFeoS41xe7w</td>\n",
              "      <td>James Baldwin Debates William F. Buckley (1965...</td>\n",
              "      <td>https://www.youtube.com/watch?v=oFeoS41xe7w</td>\n",
              "      <td>2021-02-19 19:38:32</td>\n",
              "      <td>None</td>\n",
              "      <td>33.3K subscribers</td>\n",
              "      <td>https://www.youtube.com/channel/UCGm5Oqp5rAbaC...</td>\n",
              "      <td>1,218 dislikes</td>\n",
              "      <td>True</td>\n",
              "      <td>False</td>\n",
              "      <td>42,666 likes</td>\n",
              "      <td>Oct 27, 2012</td>\n",
              "      <td>2,688,457 views</td>\n",
              "      <td>video</td>\n",
              "      <td>James Baldwin Debates William F. Buckley (1965)</td>\n",
              "      <td>oFeoS41xe7w</td>\n",
              "      <td>The Riverbends Channel</td>\n",
              "      <td>[{'channel_name': 'PBS NewsHour', 'duration_te...</td>\n",
              "      <td>[]</td>\n",
              "    </tr>\n",
              "    <tr>\n",
              "      <th>1</th>\n",
              "      <td>Ayn Rand Institute</td>\n",
              "      <td>26:39</td>\n",
              "      <td>YTD-COMPACT-VIDEO-RENDERER</td>\n",
              "      <td>426K views\\n7 months ago</td>\n",
              "      <td>2</td>\n",
              "      <td>https://i.ytimg.com/vi/lHl2PqwRcY0/hqdefault.j...</td>\n",
              "      <td>The Mike Wallace Interview with Ayn Rand</td>\n",
              "      <td>https://www.youtube.com/watch?v=lHl2PqwRcY0</td>\n",
              "      <td>2021-02-19-19.38.31.994</td>\n",
              "      <td>https://www.youtube.com/watch?v=oFeoS41xe7w</td>\n",
              "      <td>James Baldwin Debates William F. Buckley (1965...</td>\n",
              "      <td>https://www.youtube.com/watch?v=oFeoS41xe7w</td>\n",
              "      <td>2021-02-19 19:38:32</td>\n",
              "      <td>None</td>\n",
              "      <td>33.3K subscribers</td>\n",
              "      <td>https://www.youtube.com/channel/UCGm5Oqp5rAbaC...</td>\n",
              "      <td>1,218 dislikes</td>\n",
              "      <td>True</td>\n",
              "      <td>False</td>\n",
              "      <td>42,666 likes</td>\n",
              "      <td>Oct 27, 2012</td>\n",
              "      <td>2,688,457 views</td>\n",
              "      <td>video</td>\n",
              "      <td>James Baldwin Debates William F. Buckley (1965)</td>\n",
              "      <td>oFeoS41xe7w</td>\n",
              "      <td>The Riverbends Channel</td>\n",
              "      <td>[{'channel_name': 'PBS NewsHour', 'duration_te...</td>\n",
              "      <td>[]</td>\n",
              "    </tr>\n",
              "    <tr>\n",
              "      <th>2</th>\n",
              "      <td>Firing Line with William F. Buckley, Jr.</td>\n",
              "      <td>52:04</td>\n",
              "      <td>YTD-COMPACT-VIDEO-RENDERER</td>\n",
              "      <td>308K views\\n4 years ago</td>\n",
              "      <td>3</td>\n",
              "      <td>https://i.ytimg.com/vi/NxpuT1SNurU/hqdefault.j...</td>\n",
              "      <td>Firing Line with William F. Buckley Jr.: Muham...</td>\n",
              "      <td>https://www.youtube.com/watch?v=NxpuT1SNurU</td>\n",
              "      <td>2021-02-19-19.38.31.994</td>\n",
              "      <td>https://www.youtube.com/watch?v=oFeoS41xe7w</td>\n",
              "      <td>James Baldwin Debates William F. Buckley (1965...</td>\n",
              "      <td>https://www.youtube.com/watch?v=oFeoS41xe7w</td>\n",
              "      <td>2021-02-19 19:38:32</td>\n",
              "      <td>None</td>\n",
              "      <td>33.3K subscribers</td>\n",
              "      <td>https://www.youtube.com/channel/UCGm5Oqp5rAbaC...</td>\n",
              "      <td>1,218 dislikes</td>\n",
              "      <td>True</td>\n",
              "      <td>False</td>\n",
              "      <td>42,666 likes</td>\n",
              "      <td>Oct 27, 2012</td>\n",
              "      <td>2,688,457 views</td>\n",
              "      <td>video</td>\n",
              "      <td>James Baldwin Debates William F. Buckley (1965)</td>\n",
              "      <td>oFeoS41xe7w</td>\n",
              "      <td>The Riverbends Channel</td>\n",
              "      <td>[{'channel_name': 'PBS NewsHour', 'duration_te...</td>\n",
              "      <td>[]</td>\n",
              "    </tr>\n",
              "    <tr>\n",
              "      <th>3</th>\n",
              "      <td>CBC</td>\n",
              "      <td>7:49</td>\n",
              "      <td>YTD-COMPACT-VIDEO-RENDERER</td>\n",
              "      <td>3.7M views\\n10 years ago</td>\n",
              "      <td>4</td>\n",
              "      <td>https://i.ytimg.com/vi/C7IJ7npTYrU/hqdefault.j...</td>\n",
              "      <td>Malcolm X on Front Page Challenge, 1965: CBC A...</td>\n",
              "      <td>https://www.youtube.com/watch?v=C7IJ7npTYrU</td>\n",
              "      <td>2021-02-19-19.38.31.994</td>\n",
              "      <td>https://www.youtube.com/watch?v=oFeoS41xe7w</td>\n",
              "      <td>James Baldwin Debates William F. Buckley (1965...</td>\n",
              "      <td>https://www.youtube.com/watch?v=oFeoS41xe7w</td>\n",
              "      <td>2021-02-19 19:38:32</td>\n",
              "      <td>None</td>\n",
              "      <td>33.3K subscribers</td>\n",
              "      <td>https://www.youtube.com/channel/UCGm5Oqp5rAbaC...</td>\n",
              "      <td>1,218 dislikes</td>\n",
              "      <td>True</td>\n",
              "      <td>False</td>\n",
              "      <td>42,666 likes</td>\n",
              "      <td>Oct 27, 2012</td>\n",
              "      <td>2,688,457 views</td>\n",
              "      <td>video</td>\n",
              "      <td>James Baldwin Debates William F. Buckley (1965)</td>\n",
              "      <td>oFeoS41xe7w</td>\n",
              "      <td>The Riverbends Channel</td>\n",
              "      <td>[{'channel_name': 'PBS NewsHour', 'duration_te...</td>\n",
              "      <td>[]</td>\n",
              "    </tr>\n",
              "    <tr>\n",
              "      <th>4</th>\n",
              "      <td>The Dick Cavett Show</td>\n",
              "      <td>12:58</td>\n",
              "      <td>YTD-COMPACT-VIDEO-RENDERER</td>\n",
              "      <td>390K views\\n6 months ago</td>\n",
              "      <td>5</td>\n",
              "      <td>https://i.ytimg.com/vi/hzH5IDnLaBA/hqdefault.j...</td>\n",
              "      <td>James Baldwin and Paul Weiss Debate Discrimina...</td>\n",
              "      <td>https://www.youtube.com/watch?v=hzH5IDnLaBA</td>\n",
              "      <td>2021-02-19-19.38.31.994</td>\n",
              "      <td>https://www.youtube.com/watch?v=oFeoS41xe7w</td>\n",
              "      <td>James Baldwin Debates William F. Buckley (1965...</td>\n",
              "      <td>https://www.youtube.com/watch?v=oFeoS41xe7w</td>\n",
              "      <td>2021-02-19 19:38:32</td>\n",
              "      <td>None</td>\n",
              "      <td>33.3K subscribers</td>\n",
              "      <td>https://www.youtube.com/channel/UCGm5Oqp5rAbaC...</td>\n",
              "      <td>1,218 dislikes</td>\n",
              "      <td>True</td>\n",
              "      <td>False</td>\n",
              "      <td>42,666 likes</td>\n",
              "      <td>Oct 27, 2012</td>\n",
              "      <td>2,688,457 views</td>\n",
              "      <td>video</td>\n",
              "      <td>James Baldwin Debates William F. Buckley (1965)</td>\n",
              "      <td>oFeoS41xe7w</td>\n",
              "      <td>The Riverbends Channel</td>\n",
              "      <td>[{'channel_name': 'PBS NewsHour', 'duration_te...</td>\n",
              "      <td>[]</td>\n",
              "    </tr>\n",
              "  </tbody>\n",
              "</table>\n",
              "</div>"
            ],
            "text/plain": [
              "                               channel_name  ... action_caption_tracks\n",
              "0                              PBS NewsHour  ...                    []\n",
              "1                        Ayn Rand Institute  ...                    []\n",
              "2  Firing Line with William F. Buckley, Jr.  ...                    []\n",
              "3                                       CBC  ...                    []\n",
              "4                      The Dick Cavett Show  ...                    []\n",
              "\n",
              "[5 rows x 28 columns]"
            ]
          },
          "metadata": {
            "tags": []
          },
          "execution_count": 11
        }
      ]
    },
    {
      "cell_type": "markdown",
      "metadata": {
        "id": "ag1w-CPhZK4_"
      },
      "source": [
        "# And that's it!\n",
        "\n",
        "Questions? Comments? Banana bread recipes? Check out the Persine repo at [https://github.com/jsoma/persine](https://github.com/jsoma/persine), harass me on Twitter [@dangerscarf](https://twitter.com/dangerscarf), or spam me heartily at [jonathan.soma@gmail.com](mailto:jonathan.soma@gmail.com)."
      ]
    }
  ]
}